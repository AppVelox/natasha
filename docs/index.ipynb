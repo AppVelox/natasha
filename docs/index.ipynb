{
 "cells": [
  {
   "cell_type": "markdown",
   "metadata": {},
   "source": [
    "# Natasha"
   ]
  },
  {
   "cell_type": "markdown",
   "metadata": {},
   "source": [
    "Natasha — библиотека для поиска и извлечения именованных сущностей ([Named-entity recognition](https://en.wikipedia.org/wiki/Named-entity_recognition)) из текстов на русском языке. В библиотеке собраны грамматики и словари для парсера [Yargy](https://github.com/natasha/yargy)."
   ]
  },
  {
   "cell_type": "markdown",
   "metadata": {},
   "source": [
    "## Использование"
   ]
  },
  {
   "cell_type": "markdown",
   "metadata": {},
   "source": [
    "Natasha имеет лаконичный интерфейс. Доступны экстракторы для имён, адресов, сумм денег, дат и некоторых других сущностей."
   ]
  },
  {
   "cell_type": "code",
   "execution_count": 1,
   "metadata": {},
   "outputs": [],
   "source": [
    "from natasha import (\n",
    "    NamesExtractor,\n",
    "    DatesExtractor,\n",
    "    MoneyExtractor,\n",
    ")   "
   ]
  },
  {
   "cell_type": "markdown",
   "metadata": {},
   "source": [
    "Экстрактор принимает на вход текст и возвращается список метчей:"
   ]
  },
  {
   "cell_type": "code",
   "execution_count": 2,
   "metadata": {},
   "outputs": [
    {
     "data": {
      "text/html": [
       "<style>\n",
       "\n",
       ".markup {\n",
       "    white-space: pre-wrap;\n",
       "}\n",
       "\n",
       ".markup > mark {\n",
       "    line-height: 1;\n",
       "    display: inline-block;\n",
       "    border-radius: 0.25em;\n",
       "    border: 1px solid #fdf07c;\n",
       "    background: #ffffc2;\n",
       "}\n",
       "    </style><div class=\"markup tex2jax_ignore\">\n",
       "Простите, еще несколько цитат из приговора. «…Отрицал существование\n",
       "<mark>Иисуса</mark> и пророка <mark>Мухаммеда</mark>», «наделял <mark>Иисуса Христа</mark> качествами\n",
       "ожившего мертвеца - зомби» [и] «качествами покемонов -\n",
       "представителей бестиария японской мифологии, тем самым совершил\n",
       "преступление, предусмотренное статьей 148 УК РФ\n",
       "</div>"
      ],
      "text/plain": [
       "Matches('\\nПростите, еще несколько цитат из приговора. «…Отрицал существование\\nИисуса и пророка Мухаммеда», «наделял Иисуса Христа качествами\\nожившего мертвеца - зомби» [и] «качествами покемонов -\\nпредставителей бестиария японской мифологии, тем самым совершил\\nпреступление, предусмотренное статьей 148 УК РФ\\n',\n",
       "        [Match([MorphTagToken('Иисуса',\n",
       "                              [69, 75),\n",
       "                              'RU',\n",
       "                              'I',\n",
       "                              [Form('иисус',\n",
       "                                    Grams(NOUN,Name,anim,gent,masc,sing)),\n",
       "                               Form('иисус',\n",
       "                                    Grams(NOUN,Name,accs,anim,masc,sing))])],\n",
       "               [69, 75)),\n",
       "         Match([MorphTagToken('Мухаммеда',\n",
       "                              [86, 95),\n",
       "                              'RU',\n",
       "                              'I',\n",
       "                              [Form('мухаммед',\n",
       "                                    Grams(NOUN,Name,anim,gent,masc,sing)),\n",
       "                               Form('мухаммед',\n",
       "                                    Grams(NOUN,Name,accs,anim,masc,sing))])],\n",
       "               [86, 95)),\n",
       "         Match([MorphTagToken('Иисуса',\n",
       "                              [107, 113),\n",
       "                              'RU',\n",
       "                              'I',\n",
       "                              [Form('иисус',\n",
       "                                    Grams(NOUN,Name,anim,gent,masc,sing)),\n",
       "                               Form('иисус',\n",
       "                                    Grams(NOUN,Name,accs,anim,masc,sing))]),\n",
       "                MorphTagToken('Христа',\n",
       "                              [114, 120),\n",
       "                              'RU',\n",
       "                              'I',\n",
       "                              [Form('христос',\n",
       "                                    Grams(NOUN,Sgtm,anim,gent,masc,sing)),\n",
       "                               Form('христос',\n",
       "                                    Grams(NOUN,Sgtm,accs,anim,masc,sing))])],\n",
       "               [107, 120))])"
      ]
     },
     "execution_count": 2,
     "metadata": {},
     "output_type": "execute_result"
    }
   ],
   "source": [
    "extractor = NamesExtractor()\n",
    "text = '''\n",
    "Простите, еще несколько цитат из приговора. «…Отрицал существование\n",
    "Иисуса и пророка Мухаммеда», «наделял Иисуса Христа качествами\n",
    "ожившего мертвеца — зомби» [и] «качествами покемонов —\n",
    "представителей бестиария японской мифологии, тем самым совершил\n",
    "преступление, предусмотренное статьей 148 УК РФ\n",
    "'''\n",
    "matches = extractor(text)\n",
    "matches"
   ]
  },
  {
   "cell_type": "markdown",
   "metadata": {},
   "source": [
    "Каждый метч имеет два основных атрибута: `span` и `fact`. `span` определяет границы метча:"
   ]
  },
  {
   "cell_type": "code",
   "execution_count": 3,
   "metadata": {},
   "outputs": [
    {
     "name": "stdout",
     "output_type": "stream",
     "text": [
      "69 75 Иисуса\n",
      "86 95 Мухаммеда\n",
      "107 120 Иисуса Христа\n"
     ]
    }
   ],
   "source": [
    "for match in matches:\n",
    "    start, stop = match.span\n",
    "    print(start, stop, text[start:stop])"
   ]
  },
  {
   "cell_type": "markdown",
   "metadata": {},
   "source": [
    "В `fact` находится объект с атрибутами:"
   ]
  },
  {
   "cell_type": "code",
   "execution_count": 4,
   "metadata": {},
   "outputs": [
    {
     "name": "stdout",
     "output_type": "stream",
     "text": [
      "0 Name(first='иисус', middle=None, last=None, nick=None)\n",
      "1 Name(first='мухаммед', middle=None, last=None, nick=None)\n",
      "2 Name(first='иисус', middle=None, last='христос', nick=None)\n"
     ]
    }
   ],
   "source": [
    "for index, match in enumerate(matches):\n",
    "    print(index, match.fact)"
   ]
  },
  {
   "cell_type": "markdown",
   "metadata": {},
   "source": [
    "Разные экстракторы возвращают разные типы объектов:"
   ]
  },
  {
   "cell_type": "code",
   "execution_count": 5,
   "metadata": {},
   "outputs": [
    {
     "data": {
      "text/html": [
       "<style>\n",
       "\n",
       ".markup {\n",
       "    white-space: pre-wrap;\n",
       "}\n",
       "\n",
       ".markup > mark {\n",
       "    line-height: 1;\n",
       "    display: inline-block;\n",
       "    border-radius: 0.25em;\n",
       "    border: 1px solid #fdf07c;\n",
       "    background: #ffffc2;\n",
       "}\n",
       "    </style><div class=\"markup tex2jax_ignore\">\n",
       "Я посмотрел на инфляцию в России, взял период с <mark>декабря 2002 года</mark>\n",
       "по <mark>декабрь 2015 года</mark> Инфляция 246%.\n",
       "\n",
       "14.14 <mark>29 июня 2016 года</mark>:   Наиболее ожесточенные бои ночью шли под\n",
       "Дебальцево\n",
       "</div>"
      ],
      "text/plain": [
       "Matches('\\nЯ посмотрел на инфляцию в России, взял период с декабря 2002 года\\nпо декабрь 2015 года Инфляция 246%.\\n\\n14.14 29 июня 2016 года:   Наиболее ожесточенные бои ночью шли под\\nДебальцево\\n',\n",
       "        [Match([MorphToken('декабря',\n",
       "                           [49, 56),\n",
       "                           'RU',\n",
       "                           [Form('декабрь', Grams(NOUN,gent,inan,masc,sing))]),\n",
       "                Token('2002', [57, 61), 'INT'),\n",
       "                MorphToken('года',\n",
       "                           [62, 66),\n",
       "                           'RU',\n",
       "                           [Form('год', Grams(NOUN,gent,inan,masc,sing)),\n",
       "                            Form('год', Grams(Infr,NOUN,inan,masc,nomn,plur)),\n",
       "                            Form('год',\n",
       "                                 Grams(Infr,NOUN,accs,inan,masc,plur))])],\n",
       "               [49, 66)),\n",
       "         Match([MorphToken('декабрь',\n",
       "                           [70, 77),\n",
       "                           'RU',\n",
       "                           [Form('декабрь', Grams(NOUN,accs,inan,masc,sing)),\n",
       "                            Form('декабрь', Grams(NOUN,inan,masc,nomn,sing))]),\n",
       "                Token('2015', [78, 82), 'INT'),\n",
       "                MorphToken('года',\n",
       "                           [83, 87),\n",
       "                           'RU',\n",
       "                           [Form('год', Grams(NOUN,gent,inan,masc,sing)),\n",
       "                            Form('год', Grams(Infr,NOUN,inan,masc,nomn,plur)),\n",
       "                            Form('год',\n",
       "                                 Grams(Infr,NOUN,accs,inan,masc,plur))])],\n",
       "               [70, 87)),\n",
       "         Match([Token('29', [110, 112), 'INT'),\n",
       "                MorphToken('июня',\n",
       "                           [113, 117),\n",
       "                           'RU',\n",
       "                           [Form('июнь', Grams(NOUN,gent,inan,masc,sing))]),\n",
       "                Token('2016', [118, 122), 'INT'),\n",
       "                MorphToken('года',\n",
       "                           [123, 127),\n",
       "                           'RU',\n",
       "                           [Form('год', Grams(NOUN,gent,inan,masc,sing)),\n",
       "                            Form('год', Grams(Infr,NOUN,inan,masc,nomn,plur)),\n",
       "                            Form('год',\n",
       "                                 Grams(Infr,NOUN,accs,inan,masc,plur))])],\n",
       "               [110, 127))])"
      ]
     },
     "execution_count": 5,
     "metadata": {},
     "output_type": "execute_result"
    }
   ],
   "source": [
    "extractor = DatesExtractor()\n",
    "text = '''\n",
    "Я посмотрел на инфляцию в России, взял период с декабря 2002 года\n",
    "по декабрь 2015 года Инфляция 246%.\n",
    "\n",
    "14.14 29 июня 2016 года:   Наиболее ожесточенные бои ночью шли под\n",
    "Дебальцево\n",
    "'''\n",
    "matches = extractor(text)\n",
    "matches"
   ]
  },
  {
   "cell_type": "code",
   "execution_count": 6,
   "metadata": {},
   "outputs": [
    {
     "name": "stdout",
     "output_type": "stream",
     "text": [
      "0 Date(year=2002, month=12, day=None)\n",
      "1 Date(year=2015, month=12, day=None)\n",
      "2 Date(year=2016, month=6, day=29)\n"
     ]
    }
   ],
   "source": [
    "for index, match in enumerate(matches):\n",
    "    print(index, match.fact)"
   ]
  },
  {
   "cell_type": "markdown",
   "metadata": {},
   "source": [
    "У некоторых сущностей есть дополнительные атрибуты, например, у сумм есть атрибут `normalized`:"
   ]
  },
  {
   "cell_type": "code",
   "execution_count": 7,
   "metadata": {},
   "outputs": [
    {
     "data": {
      "text/html": [
       "<style>\n",
       "\n",
       ".markup {\n",
       "    white-space: pre-wrap;\n",
       "}\n",
       "\n",
       ".markup > mark {\n",
       "    line-height: 1;\n",
       "    display: inline-block;\n",
       "    border-radius: 0.25em;\n",
       "    border: 1px solid #fdf07c;\n",
       "    background: #ffffc2;\n",
       "}\n",
       "    </style><div class=\"markup tex2jax_ignore\">В 1995 году стоимость <mark>1 доллара</mark> была около <mark>800 рублей 50 копеек</mark></div>"
      ],
      "text/plain": [
       "Matches('В 1995 году стоимость 1 доллара была около 800 рублей 50 копеек',\n",
       "        [Match([Token('1', [22, 23), 'INT'),\n",
       "                MorphToken('доллара',\n",
       "                           [24, 31),\n",
       "                           'RU',\n",
       "                           [Form('доллар', Grams(NOUN,gent,inan,masc,sing))])],\n",
       "               [22, 31)),\n",
       "         Match([Token('800', [43, 46), 'INT'),\n",
       "                MorphToken('рублей',\n",
       "                           [47, 53),\n",
       "                           'RU',\n",
       "                           [Form('рубль', Grams(NOUN,gent,inan,masc,plur))]),\n",
       "                Token('50', [54, 56), 'INT'),\n",
       "                MorphToken('копеек',\n",
       "                           [57, 63),\n",
       "                           'RU',\n",
       "                           [Form('копейка',\n",
       "                                 Grams(NOUN,femn,gent,inan,plur))])],\n",
       "               [43, 63))])"
      ]
     },
     "execution_count": 7,
     "metadata": {},
     "output_type": "execute_result"
    }
   ],
   "source": [
    "extractor = MoneyExtractor()\n",
    "text = 'В 1995 году стоимость 1 доллара была около 800 рублей 50 копеек'''\n",
    "matches = extractor(text)\n",
    "matches"
   ]
  },
  {
   "cell_type": "code",
   "execution_count": 8,
   "metadata": {},
   "outputs": [
    {
     "name": "stdout",
     "output_type": "stream",
     "text": [
      "0 Money(1, 'USD')\n",
      "1 Money(800.5, 'RUB')\n"
     ]
    }
   ],
   "source": [
    "for index, match in enumerate(matches):\n",
    "    print(index, repr(match.fact.normalized))"
   ]
  },
  {
   "cell_type": "markdown",
   "metadata": {},
   "source": [
    "## Справочник"
   ]
  },
  {
   "cell_type": "code",
   "execution_count": 9,
   "metadata": {},
   "outputs": [],
   "source": [
    "from natasha import (\n",
    "    NamesExtractor,\n",
    "    SimpleNamesExtractor,\n",
    "    PersonExtractor,\n",
    "\n",
    "    LocationExtractor,\n",
    "    AddressExtractor,\n",
    "\n",
    "    OrganisationExtractor,\n",
    "\n",
    "    DatesExtractor,\n",
    "\n",
    "    MoneyExtractor,\n",
    "    MoneyRateExtractor,\n",
    "    MoneyRangeExtractor,\n",
    ")   \n",
    "\n",
    "from natasha.markup import (\n",
    "    show_markup_notebook as show_markup,\n",
    "    format_json\n",
    ")"
   ]
  },
  {
   "cell_type": "markdown",
   "metadata": {},
   "source": [
    "### NamesExtractor"
   ]
  },
  {
   "cell_type": "code",
   "execution_count": 10,
   "metadata": {},
   "outputs": [
    {
     "data": {
      "text/html": [
       "<style>\n",
       "\n",
       ".markup {\n",
       "    white-space: pre-wrap;\n",
       "}\n",
       "\n",
       ".markup > mark {\n",
       "    line-height: 1;\n",
       "    display: inline-block;\n",
       "    border-radius: 0.25em;\n",
       "    border: 1px solid #fdf07c;\n",
       "    background: #ffffc2;\n",
       "}\n",
       "    </style><div class=\"markup tex2jax_ignore\">\n",
       "Благодарственное письмо   Хочу поблагодарить учителей моего, теперь уже бывшего, одиннадцатиклассника:  <mark>Бушуева Вячеслава Владимировича</mark> и <mark>Бушуеву Веру Константиновну</mark>. Они вовлекали сына в интересные внеурочные занятия, связанные с театром и походами.\n",
       "\n",
       "Благодарю прекрасного учителя 1\"А\" класса - <mark>Волкову Наталью Николаевну</mark>, нашего наставника, тьютора - <mark>Ларису Ивановну</mark>, за огромнейший труд, чуткое отношение к детям, взаимопонимание! Огромное спасибо!\n",
       "</div>"
      ],
      "text/plain": [
       "<IPython.core.display.HTML object>"
      ]
     },
     "metadata": {},
     "output_type": "display_data"
    },
    {
     "name": "stdout",
     "output_type": "stream",
     "text": [
      "[\n",
      "  {\n",
      "    \"first\": \"вячеслав\",\n",
      "    \"middle\": \"владимирович\",\n",
      "    \"last\": \"бушуев\"\n",
      "  },\n",
      "  {\n",
      "    \"first\": \"вера\",\n",
      "    \"middle\": \"константиновна\",\n",
      "    \"last\": \"бушуева\"\n",
      "  },\n",
      "  {\n",
      "    \"first\": \"наталья\",\n",
      "    \"middle\": \"николаевна\",\n",
      "    \"last\": \"волкова\"\n",
      "  },\n",
      "  {\n",
      "    \"first\": \"лариса\",\n",
      "    \"middle\": \"ивановна\"\n",
      "  }\n",
      "]\n"
     ]
    }
   ],
   "source": [
    "extractor = NamesExtractor()\n",
    "\n",
    "text = \"\"\"\n",
    "Благодарственное письмо   Хочу поблагодарить учителей моего, теперь уже бывшего, одиннадцатиклассника:  Бушуева Вячеслава Владимировича и Бушуеву Веру Константиновну. Они вовлекали сына в интересные внеурочные занятия, связанные с театром и походами.\n",
    "\n",
    "Благодарю прекрасного учителя 1\"А\" класса - Волкову Наталью Николаевну, нашего наставника, тьютора - Ларису Ивановну, за огромнейший труд, чуткое отношение к детям, взаимопонимание! Огромное спасибо!\n",
    "\"\"\"\n",
    "\n",
    "matches = extractor(text)\n",
    "spans = [_.span for _ in matches]\n",
    "facts = [_.fact.as_json for _ in matches]\n",
    "show_markup(text, spans)\n",
    "print(format_json(facts))"
   ]
  },
  {
   "cell_type": "markdown",
   "metadata": {},
   "source": [
    "### SimpleNamesExtractor"
   ]
  },
  {
   "cell_type": "markdown",
   "metadata": {},
   "source": [
    "`NamesExtractor` на самом деле использует не только правила для извлечения имён. Предварительно текст прогоняется через CRF-теггер, правила запускаются только на слов, где сработал теггер. Это сделано, чтобы учитывать контекст. Например, алгоритм не должен срабатывать на фразе (сейчас он срабатывает, но не должен, но задумка такая) \"5 июля во Владимире состоит\", \"Владимир\" здесь не имя. Учесть это только с помощью правил Yargy нельзя.\n",
    "\n",
    "`SimpleNames` не использует CRF, его стоит применять, когда известно, что в строке только имена."
   ]
  },
  {
   "cell_type": "code",
   "execution_count": 11,
   "metadata": {},
   "outputs": [
    {
     "name": "stdout",
     "output_type": "stream",
     "text": [
      "Мустафа Джемилев\n",
      "{\n",
      "  \"first\": \"мустафа\",\n",
      "  \"last\": \"джемилев\"\n",
      "}\n",
      "Егору Свиридову\n",
      "{\n",
      "  \"first\": \"егор\",\n",
      "  \"last\": \"свиридов\"\n",
      "}\n",
      "Стрыжак Алеся\n",
      "{\n",
      "  \"first\": \"алеся\",\n",
      "  \"last\": \"стрыжак\"\n",
      "}\n",
      "владимир путин\n",
      "{\n",
      "  \"first\": \"владимир\",\n",
      "  \"last\": \"путин\"\n",
      "}\n",
      "плаксюк саша\n",
      "{\n",
      "  \"first\": \"саша\",\n",
      "  \"last\": \"плаксюк\"\n",
      "}\n",
      "О. Дерипаска\n",
      "{\n",
      "  \"first\": \"О\",\n",
      "  \"last\": \"дерипаск\"\n",
      "}\n",
      "Ищенко Е.П.\n",
      "{\n",
      "  \"first\": \"Е\",\n",
      "  \"middle\": \"П\",\n",
      "  \"last\": \"ищенко\"\n",
      "}\n"
     ]
    }
   ],
   "source": [
    "extractor = SimpleNamesExtractor()\n",
    "\n",
    "lines = [\n",
    "    'Мустафа Джемилев',\n",
    "    'Егору Свиридову',\n",
    "    'Стрыжак Алеся',\n",
    "    'владимир путин',\n",
    "    'плаксюк саша',\n",
    "\n",
    "    'О. Дерипаска',\n",
    "    'Ищенко Е.П.',\n",
    "]\n",
    "\n",
    "for line in lines:\n",
    "    matches = extractor(line)\n",
    "    match = matches[0]\n",
    "    fact = match.fact.as_json\n",
    "    print(line)\n",
    "    print(format_json(fact))"
   ]
  },
  {
   "cell_type": "markdown",
   "metadata": {},
   "source": [
    "### PersonExtractor"
   ]
  },
  {
   "cell_type": "code",
   "execution_count": 12,
   "metadata": {},
   "outputs": [
    {
     "name": "stdout",
     "output_type": "stream",
     "text": [
      "президент Николя Саркози\n",
      "{\n",
      "  \"position\": \"президент\",\n",
      "  \"name\": {\n",
      "    \"first\": \"николя\",\n",
      "    \"last\": \"саркози\"\n",
      "  }\n",
      "}\n",
      "Вице-премьер правительства РФ Дмитрий Козак\n",
      "{\n",
      "  \"position\": \"Вице-премьер правительства РФ\",\n",
      "  \"name\": {\n",
      "    \"first\": \"дмитрий\",\n",
      "    \"last\": \"козак\"\n",
      "  }\n",
      "}\n",
      "Вице-президент Генадий Рушайло\n",
      "{\n",
      "  \"position\": \"Вице-президент\",\n",
      "  \"name\": {\n",
      "    \"first\": \"генадий\",\n",
      "    \"last\": \"рушайло\"\n",
      "  }\n",
      "}\n"
     ]
    }
   ],
   "source": [
    "extractor = PersonExtractor()\n",
    "\n",
    "lines = [\n",
    "    'президент Николя Саркози',\n",
    "    'Вице-премьер правительства РФ Дмитрий Козак',\n",
    "    'Вице-президент Генадий Рушайло',\n",
    "]\n",
    "\n",
    "for line in lines:\n",
    "    matches = extractor(line)\n",
    "    match = matches[0]\n",
    "    fact = match.fact.as_json\n",
    "    print(line)\n",
    "    print(format_json(fact))"
   ]
  },
  {
   "cell_type": "markdown",
   "metadata": {},
   "source": [
    "### LocationExtractor"
   ]
  },
  {
   "cell_type": "markdown",
   "metadata": {},
   "source": [
    "**WARN!** формат результатов скорее всего будет меняться, и вообще качество сейчас не очень"
   ]
  },
  {
   "cell_type": "code",
   "execution_count": 13,
   "metadata": {},
   "outputs": [
    {
     "name": "stdout",
     "output_type": "stream",
     "text": [
      "В Чеченской республике на день рождения ...\n",
      "{\n",
      "  \"name\": \"чеченская республика\"\n",
      "}\n",
      "Донецкая народная республика провозгласила ...\n",
      "{\n",
      "  \"name\": \"донецкая народная республика\"\n",
      "}\n",
      "Российская Федерация\n",
      "{\n",
      "  \"name\": \"российская федерация\"\n",
      "}\n",
      "в Соединенных Штатах Америки\n",
      "{\n",
      "  \"name\": \"соединённый штат америка\"\n",
      "}\n",
      "речь шла о Обьединенных Арабских Эмиратах\n",
      "{\n",
      "  \"name\": \"обьединённый арабский эмират\"\n",
      "}\n",
      "Соединённые Штаты\n",
      "{\n",
      "  \"name\": \"соединённый штат\"\n",
      "}\n"
     ]
    }
   ],
   "source": [
    "extractor = LocationExtractor()\n",
    "\n",
    "lines = [\n",
    "    'В Чеченской республике на день рождения ...',\n",
    "    'Донецкая народная республика провозгласила ...',\n",
    "    'Российская Федерация',\n",
    "    'в Соединенных Штатах Америки',\n",
    "    'речь шла о Обьединенных Арабских Эмиратах',\n",
    "    'Соединённые Штаты',\n",
    "]\n",
    "\n",
    "for line in lines:\n",
    "    matches = extractor(line)\n",
    "    match = matches[0]\n",
    "    fact = match.fact.as_json\n",
    "    print(line)\n",
    "    print(format_json(fact))"
   ]
  },
  {
   "cell_type": "markdown",
   "metadata": {},
   "source": [
    "### AddressExtractor"
   ]
  },
  {
   "cell_type": "code",
   "execution_count": 14,
   "metadata": {
    "scrolled": false
   },
   "outputs": [
    {
     "data": {
      "text/html": [
       "<style>\n",
       "\n",
       ".markup {\n",
       "    white-space: pre-wrap;\n",
       "}\n",
       "\n",
       ".markup > mark {\n",
       "    line-height: 1;\n",
       "    display: inline-block;\n",
       "    border-radius: 0.25em;\n",
       "    border: 1px solid #fdf07c;\n",
       "    background: #ffffc2;\n",
       "}\n",
       "    </style><div class=\"markup tex2jax_ignore\">Офис и шоу-рум в Красноярске работает с 14.00 до 17.00 по адресу <mark>г.Красноряск ул.Парижской Коммуны,14 оф.14</mark>.</div>"
      ],
      "text/plain": [
       "<IPython.core.display.HTML object>"
      ]
     },
     "metadata": {},
     "output_type": "display_data"
    },
    {
     "name": "stdout",
     "output_type": "stream",
     "text": [
      "[\n",
      "  {\n",
      "    \"parts\": [\n",
      "      {\n",
      "        \"name\": \"Красноряск\",\n",
      "        \"type\": \"город\"\n",
      "      },\n",
      "      {\n",
      "        \"name\": \"Парижской Коммуны\",\n",
      "        \"type\": \"улица\"\n",
      "      },\n",
      "      {\n",
      "        \"number\": \"14\"\n",
      "      },\n",
      "      {\n",
      "        \"number\": \"14\",\n",
      "        \"type\": \"офис\"\n",
      "      }\n",
      "    ]\n",
      "  }\n",
      "]\n"
     ]
    },
    {
     "data": {
      "text/html": [
       "<style>\n",
       "\n",
       ".markup {\n",
       "    white-space: pre-wrap;\n",
       "}\n",
       "\n",
       ".markup > mark {\n",
       "    line-height: 1;\n",
       "    display: inline-block;\n",
       "    border-radius: 0.25em;\n",
       "    border: 1px solid #fdf07c;\n",
       "    background: #ffffc2;\n",
       "}\n",
       "    </style><div class=\"markup tex2jax_ignore\">Юридический адрес: <mark>129344, г. Москва, ул. Искры, дом 31, корпус 1</mark>, пом. II комната 7А.</div>"
      ],
      "text/plain": [
       "<IPython.core.display.HTML object>"
      ]
     },
     "metadata": {},
     "output_type": "display_data"
    },
    {
     "name": "stdout",
     "output_type": "stream",
     "text": [
      "[\n",
      "  {\n",
      "    \"parts\": [\n",
      "      {\n",
      "        \"value\": \"129344\"\n",
      "      },\n",
      "      {\n",
      "        \"name\": \"Москва\",\n",
      "        \"type\": \"город\"\n",
      "      },\n",
      "      {\n",
      "        \"name\": \"Искры\",\n",
      "        \"type\": \"улица\"\n",
      "      },\n",
      "      {\n",
      "        \"number\": \"31\",\n",
      "        \"type\": \"дом\"\n",
      "      },\n",
      "      {\n",
      "        \"number\": \"1\",\n",
      "        \"type\": \"корпус\"\n",
      "      }\n",
      "    ]\n",
      "  }\n",
      "]\n"
     ]
    },
    {
     "data": {
      "text/html": [
       "<style>\n",
       "\n",
       ".markup {\n",
       "    white-space: pre-wrap;\n",
       "}\n",
       "\n",
       ".markup > mark {\n",
       "    line-height: 1;\n",
       "    display: inline-block;\n",
       "    border-radius: 0.25em;\n",
       "    border: 1px solid #fdf07c;\n",
       "    background: #ffffc2;\n",
       "}\n",
       "    </style><div class=\"markup tex2jax_ignore\"><mark>г. Пятигорск, ул. Февральская, д. 54</mark></div>"
      ],
      "text/plain": [
       "<IPython.core.display.HTML object>"
      ]
     },
     "metadata": {},
     "output_type": "display_data"
    },
    {
     "name": "stdout",
     "output_type": "stream",
     "text": [
      "[\n",
      "  {\n",
      "    \"parts\": [\n",
      "      {\n",
      "        \"name\": \"Пятигорск\",\n",
      "        \"type\": \"город\"\n",
      "      },\n",
      "      {\n",
      "        \"name\": \"Февральская\",\n",
      "        \"type\": \"улица\"\n",
      "      },\n",
      "      {\n",
      "        \"number\": \"54\",\n",
      "        \"type\": \"дом\"\n",
      "      }\n",
      "    ]\n",
      "  }\n",
      "]\n"
     ]
    },
    {
     "data": {
      "text/html": [
       "<style>\n",
       "\n",
       ".markup {\n",
       "    white-space: pre-wrap;\n",
       "}\n",
       "\n",
       ".markup > mark {\n",
       "    line-height: 1;\n",
       "    display: inline-block;\n",
       "    border-radius: 0.25em;\n",
       "    border: 1px solid #fdf07c;\n",
       "    background: #ffffc2;\n",
       "}\n",
       "    </style><div class=\"markup tex2jax_ignore\"><mark>Дмитровское шоссе, д.157, стр.9</mark></div>"
      ],
      "text/plain": [
       "<IPython.core.display.HTML object>"
      ]
     },
     "metadata": {},
     "output_type": "display_data"
    },
    {
     "name": "stdout",
     "output_type": "stream",
     "text": [
      "[\n",
      "  {\n",
      "    \"parts\": [\n",
      "      {\n",
      "        \"name\": \"Дмитровское\",\n",
      "        \"type\": \"шоссе\"\n",
      "      },\n",
      "      {\n",
      "        \"number\": \"157\",\n",
      "        \"type\": \"дом\"\n",
      "      },\n",
      "      {\n",
      "        \"number\": \"9\",\n",
      "        \"type\": \"строение\"\n",
      "      }\n",
      "    ]\n",
      "  }\n",
      "]\n"
     ]
    },
    {
     "data": {
      "text/html": [
       "<style>\n",
       "\n",
       ".markup {\n",
       "    white-space: pre-wrap;\n",
       "}\n",
       "\n",
       ".markup > mark {\n",
       "    line-height: 1;\n",
       "    display: inline-block;\n",
       "    border-radius: 0.25em;\n",
       "    border: 1px solid #fdf07c;\n",
       "    background: #ffffc2;\n",
       "}\n",
       "    </style><div class=\"markup tex2jax_ignore\"><mark>603070, г. Нижний Новгород, ул. Акимова 22 «А»</mark></div>"
      ],
      "text/plain": [
       "<IPython.core.display.HTML object>"
      ]
     },
     "metadata": {},
     "output_type": "display_data"
    },
    {
     "name": "stdout",
     "output_type": "stream",
     "text": [
      "[\n",
      "  {\n",
      "    \"parts\": [\n",
      "      {\n",
      "        \"value\": \"603070\"\n",
      "      },\n",
      "      {\n",
      "        \"name\": \"Нижний Новгород\",\n",
      "        \"type\": \"город\"\n",
      "      },\n",
      "      {\n",
      "        \"name\": \"Акимова\",\n",
      "        \"type\": \"улица\"\n",
      "      },\n",
      "      {\n",
      "        \"number\": \"22 «А»\"\n",
      "      }\n",
      "    ]\n",
      "  }\n",
      "]\n"
     ]
    },
    {
     "data": {
      "text/html": [
       "<style>\n",
       "\n",
       ".markup {\n",
       "    white-space: pre-wrap;\n",
       "}\n",
       "\n",
       ".markup > mark {\n",
       "    line-height: 1;\n",
       "    display: inline-block;\n",
       "    border-radius: 0.25em;\n",
       "    border: 1px solid #fdf07c;\n",
       "    background: #ffffc2;\n",
       "}\n",
       "    </style><div class=\"markup tex2jax_ignore\">Адрес: | <mark>г. Санкт-Петербург, ул. Шамшева, д. 8</mark> (ДК им.В.А.Шелгунова)</div>"
      ],
      "text/plain": [
       "<IPython.core.display.HTML object>"
      ]
     },
     "metadata": {},
     "output_type": "display_data"
    },
    {
     "name": "stdout",
     "output_type": "stream",
     "text": [
      "[\n",
      "  {\n",
      "    \"parts\": [\n",
      "      {\n",
      "        \"name\": \"Санкт-Петербург\",\n",
      "        \"type\": \"город\"\n",
      "      },\n",
      "      {\n",
      "        \"name\": \"Шамшева\",\n",
      "        \"type\": \"улица\"\n",
      "      },\n",
      "      {\n",
      "        \"number\": \"8\",\n",
      "        \"type\": \"дом\"\n",
      "      }\n",
      "    ]\n",
      "  }\n",
      "]\n"
     ]
    },
    {
     "data": {
      "text/html": [
       "<style>\n",
       "\n",
       ".markup {\n",
       "    white-space: pre-wrap;\n",
       "}\n",
       "\n",
       ".markup > mark {\n",
       "    line-height: 1;\n",
       "    display: inline-block;\n",
       "    border-radius: 0.25em;\n",
       "    border: 1px solid #fdf07c;\n",
       "    background: #ffffc2;\n",
       "}\n",
       "    </style><div class=\"markup tex2jax_ignore\">Факт. и юр. адрес: <mark>426052, г. Ижевск, ул. Лесозаводская 23/110</mark></div>"
      ],
      "text/plain": [
       "<IPython.core.display.HTML object>"
      ]
     },
     "metadata": {},
     "output_type": "display_data"
    },
    {
     "name": "stdout",
     "output_type": "stream",
     "text": [
      "[\n",
      "  {\n",
      "    \"parts\": [\n",
      "      {\n",
      "        \"value\": \"426052\"\n",
      "      },\n",
      "      {\n",
      "        \"name\": \"Ижевск\",\n",
      "        \"type\": \"город\"\n",
      "      },\n",
      "      {\n",
      "        \"name\": \"Лесозаводская\",\n",
      "        \"type\": \"улица\"\n",
      "      },\n",
      "      {\n",
      "        \"number\": \"23/110\"\n",
      "      }\n",
      "    ]\n",
      "  }\n",
      "]\n"
     ]
    },
    {
     "data": {
      "text/html": [
       "<style>\n",
       "\n",
       ".markup {\n",
       "    white-space: pre-wrap;\n",
       "}\n",
       "\n",
       ".markup > mark {\n",
       "    line-height: 1;\n",
       "    display: inline-block;\n",
       "    border-radius: 0.25em;\n",
       "    border: 1px solid #fdf07c;\n",
       "    background: #ffffc2;\n",
       "}\n",
       "    </style><div class=\"markup tex2jax_ignore\">Адрес: <mark>Россия г. Санкт-Петербург ул. Чехова 14 оф23</mark></div>"
      ],
      "text/plain": [
       "<IPython.core.display.HTML object>"
      ]
     },
     "metadata": {},
     "output_type": "display_data"
    },
    {
     "name": "stdout",
     "output_type": "stream",
     "text": [
      "[\n",
      "  {\n",
      "    \"parts\": [\n",
      "      {\n",
      "        \"name\": \"Россия\"\n",
      "      },\n",
      "      {\n",
      "        \"name\": \"Санкт-Петербург\",\n",
      "        \"type\": \"город\"\n",
      "      },\n",
      "      {\n",
      "        \"name\": \"Чехова\",\n",
      "        \"type\": \"улица\"\n",
      "      },\n",
      "      {\n",
      "        \"number\": \"14\"\n",
      "      },\n",
      "      {\n",
      "        \"number\": \"23\",\n",
      "        \"type\": \"офис\"\n",
      "      }\n",
      "    ]\n",
      "  }\n",
      "]\n"
     ]
    },
    {
     "data": {
      "text/html": [
       "<style>\n",
       "\n",
       ".markup {\n",
       "    white-space: pre-wrap;\n",
       "}\n",
       "\n",
       ".markup > mark {\n",
       "    line-height: 1;\n",
       "    display: inline-block;\n",
       "    border-radius: 0.25em;\n",
       "    border: 1px solid #fdf07c;\n",
       "    background: #ffffc2;\n",
       "}\n",
       "    </style><div class=\"markup tex2jax_ignore\"><mark>129085, Москва, ул.Годовикова д.9</mark>  (Бизнес-центр \"Калибр\").</div>"
      ],
      "text/plain": [
       "<IPython.core.display.HTML object>"
      ]
     },
     "metadata": {},
     "output_type": "display_data"
    },
    {
     "name": "stdout",
     "output_type": "stream",
     "text": [
      "[\n",
      "  {\n",
      "    \"parts\": [\n",
      "      {\n",
      "        \"value\": \"129085\"\n",
      "      },\n",
      "      {\n",
      "        \"name\": \"Москва\"\n",
      "      },\n",
      "      {\n",
      "        \"name\": \"Годовикова\",\n",
      "        \"type\": \"улица\"\n",
      "      },\n",
      "      {\n",
      "        \"number\": \"9\",\n",
      "        \"type\": \"дом\"\n",
      "      }\n",
      "    ]\n",
      "  }\n",
      "]\n"
     ]
    },
    {
     "data": {
      "text/html": [
       "<style>\n",
       "\n",
       ".markup {\n",
       "    white-space: pre-wrap;\n",
       "}\n",
       "\n",
       ".markup > mark {\n",
       "    line-height: 1;\n",
       "    display: inline-block;\n",
       "    border-radius: 0.25em;\n",
       "    border: 1px solid #fdf07c;\n",
       "    background: #ffffc2;\n",
       "}\n",
       "    </style><div class=\"markup tex2jax_ignore\">Почтовый адрес: Россия, 693010 г. Южно-Сахалинск, Комсомольская, 154, оф. 600</div>"
      ],
      "text/plain": [
       "<IPython.core.display.HTML object>"
      ]
     },
     "metadata": {},
     "output_type": "display_data"
    },
    {
     "name": "stdout",
     "output_type": "stream",
     "text": [
      "[]\n"
     ]
    },
    {
     "data": {
      "text/html": [
       "<style>\n",
       "\n",
       ".markup {\n",
       "    white-space: pre-wrap;\n",
       "}\n",
       "\n",
       ".markup > mark {\n",
       "    line-height: 1;\n",
       "    display: inline-block;\n",
       "    border-radius: 0.25em;\n",
       "    border: 1px solid #fdf07c;\n",
       "    background: #ffffc2;\n",
       "}\n",
       "    </style><div class=\"markup tex2jax_ignore\"><mark>ул. Менжинского, 4г</mark> ст. А</div>"
      ],
      "text/plain": [
       "<IPython.core.display.HTML object>"
      ]
     },
     "metadata": {},
     "output_type": "display_data"
    },
    {
     "name": "stdout",
     "output_type": "stream",
     "text": [
      "[\n",
      "  {\n",
      "    \"parts\": [\n",
      "      {\n",
      "        \"name\": \"Менжинского\",\n",
      "        \"type\": \"улица\"\n",
      "      },\n",
      "      {\n",
      "        \"number\": \"4г\"\n",
      "      }\n",
      "    ]\n",
      "  }\n",
      "]\n"
     ]
    },
    {
     "data": {
      "text/html": [
       "<style>\n",
       "\n",
       ".markup {\n",
       "    white-space: pre-wrap;\n",
       "}\n",
       "\n",
       ".markup > mark {\n",
       "    line-height: 1;\n",
       "    display: inline-block;\n",
       "    border-radius: 0.25em;\n",
       "    border: 1px solid #fdf07c;\n",
       "    background: #ffffc2;\n",
       "}\n",
       "    </style><div class=\"markup tex2jax_ignore\"><mark>344010, РФ, г. Ростов-на-Дону, ул. Красноармейская д.208, офис 302</mark>.</div>"
      ],
      "text/plain": [
       "<IPython.core.display.HTML object>"
      ]
     },
     "metadata": {},
     "output_type": "display_data"
    },
    {
     "name": "stdout",
     "output_type": "stream",
     "text": [
      "[\n",
      "  {\n",
      "    \"parts\": [\n",
      "      {\n",
      "        \"value\": \"344010\"\n",
      "      },\n",
      "      {\n",
      "        \"name\": \"РФ\"\n",
      "      },\n",
      "      {\n",
      "        \"name\": \"Ростов-на-Дону\",\n",
      "        \"type\": \"город\"\n",
      "      },\n",
      "      {\n",
      "        \"name\": \"Красноармейская\",\n",
      "        \"type\": \"улица\"\n",
      "      },\n",
      "      {\n",
      "        \"number\": \"208\",\n",
      "        \"type\": \"дом\"\n",
      "      },\n",
      "      {\n",
      "        \"number\": \"302\",\n",
      "        \"type\": \"офис\"\n",
      "      }\n",
      "    ]\n",
      "  }\n",
      "]\n"
     ]
    },
    {
     "data": {
      "text/html": [
       "<style>\n",
       "\n",
       ".markup {\n",
       "    white-space: pre-wrap;\n",
       "}\n",
       "\n",
       ".markup > mark {\n",
       "    line-height: 1;\n",
       "    display: inline-block;\n",
       "    border-radius: 0.25em;\n",
       "    border: 1px solid #fdf07c;\n",
       "    background: #ffffc2;\n",
       "}\n",
       "    </style><div class=\"markup tex2jax_ignore\">Юридический адрес <mark>308000, Белгородская обл., г.Белгород, ул.Н.Островского, д.5</mark></div>"
      ],
      "text/plain": [
       "<IPython.core.display.HTML object>"
      ]
     },
     "metadata": {},
     "output_type": "display_data"
    },
    {
     "name": "stdout",
     "output_type": "stream",
     "text": [
      "[\n",
      "  {\n",
      "    \"parts\": [\n",
      "      {\n",
      "        \"value\": \"308000\"\n",
      "      },\n",
      "      {\n",
      "        \"name\": \"Белгородская\",\n",
      "        \"type\": \"область\"\n",
      "      },\n",
      "      {\n",
      "        \"name\": \"Белгород\",\n",
      "        \"type\": \"город\"\n",
      "      },\n",
      "      {\n",
      "        \"name\": \"Н.Островского\",\n",
      "        \"type\": \"улица\"\n",
      "      },\n",
      "      {\n",
      "        \"number\": \"5\",\n",
      "        \"type\": \"дом\"\n",
      "      }\n",
      "    ]\n",
      "  }\n",
      "]\n"
     ]
    },
    {
     "data": {
      "text/html": [
       "<style>\n",
       "\n",
       ".markup {\n",
       "    white-space: pre-wrap;\n",
       "}\n",
       "\n",
       ".markup > mark {\n",
       "    line-height: 1;\n",
       "    display: inline-block;\n",
       "    border-radius: 0.25em;\n",
       "    border: 1px solid #fdf07c;\n",
       "    background: #ffffc2;\n",
       "}\n",
       "    </style><div class=\"markup tex2jax_ignore\">Юридический, физический и фактический адрес: <mark>350072, г. Краснодар, ул. Московская, 5</mark>.</div>"
      ],
      "text/plain": [
       "<IPython.core.display.HTML object>"
      ]
     },
     "metadata": {},
     "output_type": "display_data"
    },
    {
     "name": "stdout",
     "output_type": "stream",
     "text": [
      "[\n",
      "  {\n",
      "    \"parts\": [\n",
      "      {\n",
      "        \"value\": \"350072\"\n",
      "      },\n",
      "      {\n",
      "        \"name\": \"Краснодар\",\n",
      "        \"type\": \"город\"\n",
      "      },\n",
      "      {\n",
      "        \"name\": \"Московская\",\n",
      "        \"type\": \"улица\"\n",
      "      },\n",
      "      {\n",
      "        \"number\": \"5\"\n",
      "      }\n",
      "    ]\n",
      "  }\n",
      "]\n"
     ]
    },
    {
     "data": {
      "text/html": [
       "<style>\n",
       "\n",
       ".markup {\n",
       "    white-space: pre-wrap;\n",
       "}\n",
       "\n",
       ".markup > mark {\n",
       "    line-height: 1;\n",
       "    display: inline-block;\n",
       "    border-radius: 0.25em;\n",
       "    border: 1px solid #fdf07c;\n",
       "    background: #ffffc2;\n",
       "}\n",
       "    </style><div class=\"markup tex2jax_ignore\">Российская Федерация, <mark>Тверская область, Кимрский район, пгт.  Белый Городок, улица Заводская дом 11</mark></div>"
      ],
      "text/plain": [
       "<IPython.core.display.HTML object>"
      ]
     },
     "metadata": {},
     "output_type": "display_data"
    },
    {
     "name": "stdout",
     "output_type": "stream",
     "text": [
      "[\n",
      "  {\n",
      "    \"parts\": [\n",
      "      {\n",
      "        \"name\": \"Тверская\",\n",
      "        \"type\": \"область\"\n",
      "      },\n",
      "      {\n",
      "        \"name\": \"Кимрский\",\n",
      "        \"type\": \"район\"\n",
      "      },\n",
      "      {\n",
      "        \"name\": \"Белый Городок\",\n",
      "        \"type\": \"посёлок\"\n",
      "      },\n",
      "      {\n",
      "        \"name\": \"Заводская\",\n",
      "        \"type\": \"улица\"\n",
      "      },\n",
      "      {\n",
      "        \"number\": \"11\",\n",
      "        \"type\": \"дом\"\n",
      "      }\n",
      "    ]\n",
      "  }\n",
      "]\n"
     ]
    },
    {
     "data": {
      "text/html": [
       "<style>\n",
       "\n",
       ".markup {\n",
       "    white-space: pre-wrap;\n",
       "}\n",
       "\n",
       ".markup > mark {\n",
       "    line-height: 1;\n",
       "    display: inline-block;\n",
       "    border-radius: 0.25em;\n",
       "    border: 1px solid #fdf07c;\n",
       "    background: #ffffc2;\n",
       "}\n",
       "    </style><div class=\"markup tex2jax_ignore\">Свердловская обл., г. Екатеринбург, Барвинка 21</div>"
      ],
      "text/plain": [
       "<IPython.core.display.HTML object>"
      ]
     },
     "metadata": {},
     "output_type": "display_data"
    },
    {
     "name": "stdout",
     "output_type": "stream",
     "text": [
      "[]\n"
     ]
    }
   ],
   "source": [
    "extractor = AddressExtractor()\n",
    "\n",
    "lines = '''Офис и шоу-рум в Красноярске работает с 14.00 до 17.00 по адресу г.Красноряск ул.Парижской Коммуны,14 оф.14.\n",
    "Юридический адрес: 129344, г. Москва, ул. Искры, дом 31, корпус 1, пом. II комната 7А.\n",
    "г. Пятигорск, ул. Февральская, д. 54\n",
    "Дмитровское шоссе, д.157, стр.9\n",
    "603070, г. Нижний Новгород, ул. Акимова 22 «А»\n",
    "Адрес: | г. Санкт-Петербург, ул. Шамшева, д. 8 (ДК им.В.А.Шелгунова)\n",
    "Факт. и юр. адрес: 426052, г. Ижевск, ул. Лесозаводская 23/110\n",
    "Адрес: Россия г. Санкт-Петербург ул. Чехова 14 оф23\n",
    "129085, Москва, ул.Годовикова д.9  (Бизнес-центр \"Калибр\").\n",
    "Почтовый адрес: Россия, 693010 г. Южно-Сахалинск, Комсомольская, 154, оф. 600\n",
    "ул. Менжинского, 4г ст. А\n",
    "344010, РФ, г. Ростов-на-Дону, ул. Красноармейская д.208, офис 302.\n",
    "Юридический адрес 308000, Белгородская обл., г.Белгород, ул.Н.Островского, д.5\n",
    "Юридический, физический и фактический адрес: 350072, г. Краснодар, ул. Московская, 5.\n",
    "Российская Федерация, Тверская область, Кимрский район, пгт.  Белый Городок, улица Заводская дом 11\n",
    "Свердловская обл., г. Екатеринбург, Барвинка 21'''.splitlines()\n",
    "\n",
    "for line in lines:\n",
    "    matches = extractor(line)\n",
    "    spans = [_.span for _ in matches]\n",
    "    facts = [_.fact.as_json for _ in matches]\n",
    "    show_markup(line, spans)\n",
    "    print(format_json(facts))"
   ]
  },
  {
   "cell_type": "markdown",
   "metadata": {},
   "source": [
    "### OrganisationExtractor"
   ]
  },
  {
   "cell_type": "markdown",
   "metadata": {},
   "source": [
    "**WARN!** формат результатов скорее всего будет меняться, и вообще качество сейчас не очень"
   ]
  },
  {
   "cell_type": "code",
   "execution_count": 15,
   "metadata": {},
   "outputs": [
    {
     "name": "stdout",
     "output_type": "stream",
     "text": [
      "ПАО «Газпром»\n",
      "{\n",
      "  \"name\": \"ПАО «Газпром»\"\n",
      "}\n",
      "публичное акционерное общество \"Газпром\"\n",
      "{\n",
      "  \"name\": \"публичное акционерное общество \\\"Газпром\\\"\"\n",
      "}\n",
      "историческое общество \"Мемориал\"\n",
      "{\n",
      "  \"name\": \"историческое общество \\\"Мемориал\\\"\"\n",
      "}\n",
      "коммерческое производственное объединение \"Вектор\"\n",
      "{\n",
      "  \"name\": \"коммерческое производственное объединение \\\"Вектор\\\"\"\n",
      "}\n",
      "правозащитный центр «Мемориал»\n",
      "{\n",
      "  \"name\": \"правозащитный центр «Мемориал»\"\n",
      "}\n"
     ]
    }
   ],
   "source": [
    "extractor = OrganisationExtractor()\n",
    "\n",
    "lines = [\n",
    "    'ПАО «Газпром»',\n",
    "    'публичное акционерное общество \"Газпром\"',\n",
    "    'историческое общество \"Мемориал\"',\n",
    "    'коммерческое производственное объединение \"Вектор\"',\n",
    "    'правозащитный центр «Мемориал»',\n",
    "]\n",
    "\n",
    "for line in lines:\n",
    "    matches = extractor(line)\n",
    "    match = matches[0]\n",
    "    fact = match.fact.as_json\n",
    "    print(line)\n",
    "    print(format_json(fact))"
   ]
  },
  {
   "cell_type": "markdown",
   "metadata": {},
   "source": [
    "### DatesExtractor"
   ]
  },
  {
   "cell_type": "code",
   "execution_count": 16,
   "metadata": {},
   "outputs": [
    {
     "name": "stdout",
     "output_type": "stream",
     "text": [
      "24.01.2017\n",
      "{\n",
      "  \"year\": 2017,\n",
      "  \"month\": 1,\n",
      "  \"day\": 24\n",
      "}\n",
      "27. 05.99\n",
      "{\n",
      "  \"year\": 1999,\n",
      "  \"month\": 5,\n",
      "  \"day\": 27\n",
      "}\n",
      "2015 год\n",
      "{\n",
      "  \"year\": 2015\n",
      "}\n",
      "1 апреля\n",
      "{\n",
      "  \"month\": 4,\n",
      "  \"day\": 1\n",
      "}\n",
      "май 2017 г.\n",
      "{\n",
      "  \"year\": 2017,\n",
      "  \"month\": 5\n",
      "}\n",
      "9 мая 2017 года\n",
      "{\n",
      "  \"year\": 2017,\n",
      "  \"month\": 5,\n",
      "  \"day\": 9\n",
      "}\n"
     ]
    }
   ],
   "source": [
    "extractor = DatesExtractor()\n",
    "\n",
    "lines = [\n",
    "    '24.01.2017',\n",
    "    '27. 05.99',\n",
    "    '2015 год',\n",
    "    '1 апреля',\n",
    "    'май 2017 г.',\n",
    "    '9 мая 2017 года',\n",
    "]\n",
    "\n",
    "for line in lines:\n",
    "    matches = extractor(line)\n",
    "    match = matches[0]\n",
    "    fact = match.fact.as_json\n",
    "    print(line)\n",
    "    print(format_json(fact))"
   ]
  },
  {
   "cell_type": "markdown",
   "metadata": {},
   "source": [
    "### MoneyExtractor"
   ]
  },
  {
   "cell_type": "code",
   "execution_count": 17,
   "metadata": {},
   "outputs": [
    {
     "name": "stdout",
     "output_type": "stream",
     "text": [
      "1 599 059, 38 Евро\n",
      "{\n",
      "  \"amount\": 1599059.38,\n",
      "  \"currency\": \"EUR\"\n",
      "}\n",
      "2 134 472,44 рубля\n",
      "{\n",
      "  \"amount\": 2134472.44,\n",
      "  \"currency\": \"RUB\"\n",
      "}\n",
      "420 долларов\n",
      "{\n",
      "  \"amount\": 420,\n",
      "  \"currency\": \"USD\"\n",
      "}\n",
      "20 млн руб\n",
      "{\n",
      "  \"amount\": 20000000,\n",
      "  \"currency\": \"RUB\"\n",
      "}\n",
      "2,2 млн.руб.\n",
      "{\n",
      "  \"amount\": 2020000.0,\n",
      "  \"currency\": \"RUB\"\n",
      "}\n",
      "20 тыс руб\n",
      "{\n",
      "  \"amount\": 20000,\n",
      "  \"currency\": \"RUB\"\n",
      "}\n",
      "124 451 рубль 50 копеек\n",
      "{\n",
      "  \"amount\": 124451.5,\n",
      "  \"currency\": \"RUB\"\n",
      "}\n",
      "881 913 (Восемьсот восемьдесят одна тысяча девятьсот тринадцать) руб. 98 коп.\n",
      "{\n",
      "  \"amount\": 881913.98,\n",
      "  \"currency\": \"RUB\"\n",
      "}\n"
     ]
    }
   ],
   "source": [
    "extractor = MoneyExtractor()\n",
    "\n",
    "lines = [\n",
    "    '1 599 059, 38 Евро',\n",
    "    '2 134 472,44 рубля',\n",
    "    '420 долларов',\n",
    "    '20 млн руб',\n",
    "    '2,2 млн.руб.',\n",
    "    '20 тыс руб',\n",
    "    '124 451 рубль 50 копеек',\n",
    "    '881 913 (Восемьсот восемьдесят одна тысяча девятьсот тринадцать) руб. 98 коп.',\n",
    "]\n",
    "\n",
    "for line in lines:\n",
    "    matches = extractor(line)\n",
    "    match = matches[0]\n",
    "    fact = match.fact.normalized.as_json\n",
    "    print(line)\n",
    "    print(format_json(fact))"
   ]
  },
  {
   "cell_type": "markdown",
   "metadata": {},
   "source": [
    "### MoneyRateExtractor"
   ]
  },
  {
   "cell_type": "markdown",
   "metadata": {},
   "source": [
    "**WARN!** формат результатов скорее всего будет меняться, и вообще качество сейчас не очень"
   ]
  },
  {
   "cell_type": "code",
   "execution_count": 18,
   "metadata": {},
   "outputs": [
    {
     "name": "stdout",
     "output_type": "stream",
     "text": [
      "2000 руб. / сутки\n",
      "{\n",
      "  \"money\": {\n",
      "    \"amount\": 2000,\n",
      "    \"currency\": \"RUB\"\n",
      "  },\n",
      "  \"period\": \"DAY\"\n",
      "}\n",
      "2000 руб./смена\n",
      "{\n",
      "  \"money\": {\n",
      "    \"amount\": 2000,\n",
      "    \"currency\": \"RUB\"\n",
      "  },\n",
      "  \"period\": \"SHIFT\"\n",
      "}\n",
      "2000 руб. в час\n",
      "{\n",
      "  \"money\": {\n",
      "    \"amount\": 2000,\n",
      "    \"currency\": \"RUB\"\n",
      "  },\n",
      "  \"period\": \"HOUR\"\n",
      "}\n"
     ]
    }
   ],
   "source": [
    "extractor = MoneyRateExtractor()\n",
    "\n",
    "lines = [\n",
    "    '2000 руб. / сутки',\n",
    "    '2000 руб./смена',\n",
    "    '2000 руб. в час',\n",
    "]\n",
    "\n",
    "for line in lines:\n",
    "    matches = extractor(line)\n",
    "    match = matches[0]\n",
    "    fact = match.fact.normalized.as_json\n",
    "    print(line)\n",
    "    print(format_json(fact))"
   ]
  },
  {
   "cell_type": "markdown",
   "metadata": {},
   "source": [
    "### MoneyRangeExtractor"
   ]
  },
  {
   "cell_type": "markdown",
   "metadata": {},
   "source": [
    "**WARN!** формат результатов скорее всего будет меняться, и вообще качество сейчас не очень"
   ]
  },
  {
   "cell_type": "code",
   "execution_count": 19,
   "metadata": {},
   "outputs": [
    {
     "name": "stdout",
     "output_type": "stream",
     "text": [
      "20000-30000 рублей\n",
      "{\n",
      "  \"min\": {\n",
      "    \"amount\": 20000,\n",
      "    \"currency\": \"RUB\"\n",
      "  },\n",
      "  \"max\": {\n",
      "    \"amount\": 30000,\n",
      "    \"currency\": \"RUB\"\n",
      "  }\n",
      "}\n",
      "от 80 тысяч до 2 миллионов рублей\n",
      "{\n",
      "  \"min\": {\n",
      "    \"amount\": 80000,\n",
      "    \"currency\": \"RUB\"\n",
      "  },\n",
      "  \"max\": {\n",
      "    \"amount\": 2000000,\n",
      "    \"currency\": \"RUB\"\n",
      "  }\n",
      "}\n"
     ]
    }
   ],
   "source": [
    "extractor = MoneyRangeExtractor()\n",
    "\n",
    "lines = [\n",
    "    '20000-30000 рублей',\n",
    "    'от 80 тысяч до 2 миллионов рублей',\n",
    "]\n",
    "\n",
    "for line in lines:\n",
    "    matches = extractor(line)\n",
    "    match = matches[0]\n",
    "    fact = match.fact.normalized.as_json\n",
    "    print(line)\n",
    "    print(format_json(fact))"
   ]
  },
  {
   "cell_type": "code",
   "execution_count": null,
   "metadata": {},
   "outputs": [],
   "source": []
  }
 ],
 "metadata": {
  "kernelspec": {
   "display_name": "mypy3",
   "language": "python",
   "name": "mypy3"
  },
  "language_info": {
   "codemirror_mode": {
    "name": "ipython",
    "version": 3
   },
   "file_extension": ".py",
   "mimetype": "text/x-python",
   "name": "python",
   "nbconvert_exporter": "python",
   "pygments_lexer": "ipython3",
   "version": "3.5.1"
  }
 },
 "nbformat": 4,
 "nbformat_minor": 2
}
